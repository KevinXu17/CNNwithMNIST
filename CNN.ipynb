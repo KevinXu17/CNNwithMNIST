{
 "cells": [
  {
   "cell_type": "code",
   "execution_count": 1,
   "id": "4372ab32-6a02-4b04-98d9-b63363aa8a06",
   "metadata": {},
   "outputs": [],
   "source": [
    "import cv2\n",
    "import torch\n",
    "import torch.nn as nn\n",
    "import torchvision.transforms as transforms\n",
    "import torchvision.datasets as datasets\n",
    "from torch.autograd import Variable\n",
    "import matplotlib.pyplot as plt\n",
    "from PIL import Image\n",
    "import numpy as np"
   ]
  },
  {
   "cell_type": "code",
   "execution_count": 2,
   "id": "d77c365f-b9e7-47f3-96f0-de26c7bc4589",
   "metadata": {},
   "outputs": [],
   "source": [
    "# MNIST: mean std => normalization\n",
    "mean_gray = 0.1307\n",
    "stddev_gray = 0.3081\n",
    "\n",
    "# Transformer    img => tensors\n",
    "transforms_ori = transforms.Compose([transforms.ToTensor(),\n",
    "                                transforms.Normalize((mean_gray,), (stddev_gray,))])\n",
    "\n",
    "transforms_photo = transforms.Compose([transforms.Resize((28,28)),\n",
    "                                       transforms.ToTensor(),\n",
    "                                       transforms.Normalize((mean_gray,), (stddev_gray,))])"
   ]
  },
  {
   "cell_type": "code",
   "execution_count": 3,
   "id": "05224a96-f677-4652-830d-2b2753329442",
   "metadata": {},
   "outputs": [],
   "source": [
    "#Load our dataset\n",
    "train_dataset = datasets.MNIST(root = './data', \n",
    "                            train = True, \n",
    "                            transform = transforms_ori,\n",
    "                            download = True)\n",
    "\n",
    "test_dataset = datasets.MNIST(root = './data', \n",
    "                            train = False, \n",
    "                            transform = transforms_ori)"
   ]
  },
  {
   "cell_type": "code",
   "execution_count": 4,
   "id": "0394ca61-cce8-411c-bfac-b7df337983ea",
   "metadata": {},
   "outputs": [
    {
     "data": {
      "text/plain": [
       "<matplotlib.image.AxesImage at 0x1de0d0ae310>"
      ]
     },
     "execution_count": 4,
     "metadata": {},
     "output_type": "execute_result"
    },
    {
     "data": {
      "image/png": "[encoded data removed]",
      "text/plain": [
       "<Figure size 640x480 with 1 Axes>"
      ]
     },
     "metadata": {},
     "output_type": "display_data"
    }
   ],
   "source": [
    "## img\n",
    "random_image = train_dataset[20][0].numpy() * stddev_gray + mean_gray\n",
    "plt.imshow(random_image.reshape(28, 28), cmap='gray')"
   ]
  },
  {
   "cell_type": "code",
   "execution_count": 5,
   "id": "01e0fe37-26dd-40df-a5d5-faf27e7f28fc",
   "metadata": {},
   "outputs": [
    {
     "data": {
      "text/plain": [
       "4"
      ]
     },
     "execution_count": 5,
     "metadata": {},
     "output_type": "execute_result"
    }
   ],
   "source": [
    "## label\n",
    "train_dataset[20][1]"
   ]
  },
  {
   "cell_type": "code",
   "execution_count": 6,
   "id": "29be90c8-7b53-4729-8d25-0614be587640",
   "metadata": {},
   "outputs": [],
   "source": [
    "batch_size = 100\n",
    "epochs = 10\n",
    "train_load = torch.utils.data.DataLoader(dataset = train_dataset, \n",
    "                                         batch_size = batch_size,\n",
    "                                         shuffle = True)\n",
    "\n",
    "test_load = torch.utils.data.DataLoader(dataset = test_dataset, \n",
    "                                         batch_size = batch_size,\n",
    "                                         shuffle = False)"
   ]
  },
  {
   "cell_type": "code",
   "execution_count": 7,
   "id": "457e4291-6553-4d31-8687-4ec838156e54",
   "metadata": {},
   "outputs": [
    {
     "name": "stdout",
     "output_type": "stream",
     "text": [
      "There are 60000 images in the training set\n",
      "There are 10000 images in the test set\n",
      "There are 600 batches in the train loader\n",
      "There are 100 batches in the testloader\n"
     ]
    }
   ],
   "source": [
    "print('There are {} images in the training set'.format(len(train_dataset)))\n",
    "print('There are {} images in the test set'.format(len(test_dataset)))\n",
    "print('There are {} batches in the train loader'.format(len(train_load)))\n",
    "print('There are {} batches in the testloader'.format(len(test_load)))"
   ]
  },
  {
   "cell_type": "code",
   "execution_count": 8,
   "id": "c8341b16-c3a1-4b0d-817a-8aa8ea9a1ce0",
   "metadata": {},
   "outputs": [],
   "source": [
    "#NN model\n",
    "class CNN(nn.Module):\n",
    "    def __init__(self):\n",
    "        super(CNN,self).__init__()\n",
    "        # input size = output size => need to compute by kernel size\n",
    "        #Same Padding = [(filter size - 1) / 2] (Same Padding--> input size = output size)\n",
    "        self.cnn1 = nn.Conv2d(in_channels=1, out_channels=8, kernel_size=3,stride=1, padding=1)\n",
    "        #The output size of each of the 8 feature maps is \n",
    "        #[(input_size - filter_size + 2(padding) / stride) +1] --> [(28-3+2(1)/1)+1] = 28 (padding type is same)\n",
    "        #Batch normalization\n",
    "        self.batchnorm1 = nn.BatchNorm2d(8)\n",
    "        #RELU\n",
    "        self.relu = nn.ReLU()\n",
    "        self.maxpool1 = nn.MaxPool2d(kernel_size=2)\n",
    "        #After max pooling, the output of each feature map is now 28/2 = 14\n",
    "        self.cnn2 = nn.Conv2d(in_channels=8, out_channels=32, kernel_size=5, stride=1, padding=2)\n",
    "        #Output size of each of the 32 feature maps remains 14\n",
    "        self.batchnorm2 = nn.BatchNorm2d(32)\n",
    "        self.maxpool2 = nn.MaxPool2d(kernel_size=2)\n",
    "        #After max pooling, the output of each feature map is 14/2 = 7\n",
    "        #Flatten the feature maps. You have 32 feature maps, each of them is of size 7x7 --> 32*7*7 = 1568\n",
    "        self.fc1 = nn.Linear(in_features=1568, out_features=700)\n",
    "        self.droput = nn.Dropout(p=0.5)\n",
    "        self.fc2 = nn.Linear(in_features=700, out_features=10)\n",
    "    def forward(self,x):\n",
    "        out = self.cnn1(x)\n",
    "        out = self.batchnorm1(out)\n",
    "        out = self.relu(out)\n",
    "        out = self.maxpool1(out)\n",
    "        out = self.cnn2(out)\n",
    "        out = self.batchnorm2(out)\n",
    "        out = self.relu(out)\n",
    "        out = self.maxpool2(out)\n",
    "        #Now we have to flatten the output.  \n",
    "        #It will take the shape (batch_size, 1568) = (100, 1568)\n",
    "        out = out.view(-1,1568)\n",
    "        #Then we forward through our fully connected layer \n",
    "        out = self.fc1(out)\n",
    "        out = self.relu(out)\n",
    "        out = self.droput(out)\n",
    "        out = self.fc2(out)\n",
    "        return out"
   ]
  },
  {
   "cell_type": "code",
   "execution_count": 9,
   "id": "559c2439-8ba0-40c7-8210-3a3f2be03620",
   "metadata": {},
   "outputs": [],
   "source": [
    "model = CNN()\n",
    "CUDA = torch.cuda.is_available()\n",
    "if CUDA:\n",
    "    model = model.cuda()    \n",
    "loss_fn = nn.CrossEntropyLoss()        \n",
    "optimizer = torch.optim.SGD(model.parameters(), lr = 0.01)"
   ]
  },
  {
   "cell_type": "code",
   "execution_count": 10,
   "id": "67d2dd21-7b3d-43ba-90c4-010a3eb84a83",
   "metadata": {},
   "outputs": [
    {
     "name": "stdout",
     "output_type": "stream",
     "text": [
      "For one iteration, this is what happens:\n",
      "Input Shape: torch.Size([100, 1, 28, 28])\n",
      "Labels Shape: torch.Size([100])\n",
      "Outputs Shape torch.Size([100, 10])\n",
      "Predicted Shape torch.Size([100])\n",
      "Predicted Tensor:\n",
      "tensor([9, 8, 9, 9, 6, 9, 9, 9, 6, 9, 6, 9, 9, 9, 9, 0, 6, 6, 9, 6, 0, 9, 9, 0,\n",
      "        9, 9, 9, 9, 7, 9, 9, 3, 9, 9, 6, 6, 0, 8, 9, 9, 3, 6, 9, 8, 0, 9, 9, 0,\n",
      "        6, 0, 6, 0, 3, 9, 7, 6, 6, 0, 0, 9, 9, 6, 9, 6, 0, 0, 6, 9, 3, 6, 6, 9,\n",
      "        8, 9, 0, 9, 6, 9, 9, 0, 5, 6, 9, 9, 9, 2, 0, 0, 9, 9, 9, 9, 9, 6, 6, 6,\n",
      "        6, 9, 9, 4], device='cuda:0')\n",
      "Correct Predictions:  tensor(8, device='cuda:0')\n",
      "Correct Predictions: tensor(8, device='cuda:0')\n"
     ]
    }
   ],
   "source": [
    "\n",
    "iteration = 0\n",
    "correct_nodata = 0\n",
    "correct_data = 0\n",
    "for i,(inputs,labels) in enumerate (train_load):\n",
    "    if iteration==1:\n",
    "        break\n",
    "    inputs = Variable(inputs)\n",
    "    labels = Variable(labels)\n",
    "    if torch.cuda.is_available():\n",
    "        inputs = inputs.cuda()\n",
    "        labels = labels.cuda()\n",
    "    print(\"For one iteration, this is what happens:\")\n",
    "    print(\"Input Shape:\",inputs.shape)\n",
    "    print(\"Labels Shape:\",labels.shape)\n",
    "    output = model(inputs)\n",
    "    print(\"Outputs Shape\",output.shape)\n",
    "    _, predicted_nodata = torch.max(output, 1)\n",
    "    print(\"Predicted Shape\",predicted_nodata.shape)\n",
    "    print(\"Predicted Tensor:\")\n",
    "    print(predicted_nodata)\n",
    "    correct_nodata += (predicted_nodata == labels).sum()\n",
    "    print(\"Correct Predictions: \",correct_nodata)\n",
    "    _, predicted_data = torch.max(output.data, 1)\n",
    "    correct_data += (predicted_data == labels.data).sum()\n",
    "    print(\"Correct Predictions:\",correct_data)\n",
    "    \n",
    "\n",
    "    iteration += 1"
   ]
  },
  {
   "cell_type": "code",
   "execution_count": 11,
   "id": "ca0c6a4a-7292-4d8b-b8d5-7d0d9b824e53",
   "metadata": {},
   "outputs": [
    {
     "name": "stdout",
     "output_type": "stream",
     "text": [
      "Epoch 1/10, Training Loss: 0.451, Training Accuracy: 88.040, Testing Loss: 0.137, Testing Acc: 96.350\n",
      "Epoch 2/10, Training Loss: 0.149, Training Accuracy: 95.762, Testing Loss: 0.091, Testing Acc: 97.360\n",
      "Epoch 3/10, Training Loss: 0.109, Training Accuracy: 96.845, Testing Loss: 0.073, Testing Acc: 97.900\n",
      "Epoch 4/10, Training Loss: 0.092, Training Accuracy: 97.365, Testing Loss: 0.063, Testing Acc: 98.070\n",
      "Epoch 5/10, Training Loss: 0.077, Training Accuracy: 97.728, Testing Loss: 0.054, Testing Acc: 98.330\n",
      "Epoch 6/10, Training Loss: 0.068, Training Accuracy: 97.978, Testing Loss: 0.049, Testing Acc: 98.510\n",
      "Epoch 7/10, Training Loss: 0.061, Training Accuracy: 98.197, Testing Loss: 0.050, Testing Acc: 98.510\n",
      "Epoch 8/10, Training Loss: 0.056, Training Accuracy: 98.403, Testing Loss: 0.042, Testing Acc: 98.690\n",
      "Epoch 9/10, Training Loss: 0.052, Training Accuracy: 98.507, Testing Loss: 0.041, Testing Acc: 98.760\n",
      "Epoch 10/10, Training Loss: 0.047, Training Accuracy: 98.610, Testing Loss: 0.041, Testing Acc: 98.760\n"
     ]
    }
   ],
   "source": [
    "#Training the CNN\n",
    "num_epochs = 10\n",
    "\n",
    "#Define the lists to store the results of loss and accuracy\n",
    "train_loss = []\n",
    "test_loss = []\n",
    "train_accuracy = []\n",
    "test_accuracy = []\n",
    "\n",
    "#Training\n",
    "for epoch in range(num_epochs): \n",
    "    #Reset these below variables to 0 at the begining of every epoch\n",
    "    correct = 0\n",
    "    iterations = 0\n",
    "    iter_loss = 0.0\n",
    "    \n",
    "    model.train()                   # Put the network into training mode\n",
    "    \n",
    "    for i, (inputs, labels) in enumerate(train_load):\n",
    "        \n",
    "        # Convert torch tensor to Variable\n",
    "        inputs = Variable(inputs)\n",
    "        labels = Variable(labels)\n",
    "        \n",
    "        # If we have GPU, shift the data to GPU\n",
    "        CUDA = torch.cuda.is_available()\n",
    "        if CUDA:\n",
    "            inputs = inputs.cuda()\n",
    "            labels = labels.cuda()\n",
    "        \n",
    "        optimizer.zero_grad()            # Clear off the gradient in (w = w - gradient)\n",
    "        outputs = model(inputs)         \n",
    "        loss = loss_fn(outputs, labels)  \n",
    "        iter_loss += loss.item()       # Accumulate the loss\n",
    "        loss.backward()                 # Backpropagation \n",
    "        optimizer.step()                # Update the weights\n",
    "        \n",
    "        # Record the correct predictions for training data \n",
    "        _, predicted = torch.max(outputs, 1)\n",
    "        correct += (predicted == labels).sum()\n",
    "        iterations += 1\n",
    "    \n",
    "    # Record the training loss\n",
    "    train_loss.append(iter_loss/iterations)\n",
    "    # Record the training accuracy\n",
    "    train_accuracy.append((100 * correct.cpu().numpy() / len(train_dataset)))\n",
    "   \n",
    "    #Testing\n",
    "    loss = 0.0\n",
    "    correct = 0\n",
    "    iterations = 0\n",
    "\n",
    "    model.eval()                    # Put the network into evaluation mode\n",
    "    \n",
    "    for i, (inputs, labels) in enumerate(test_load):\n",
    "        \n",
    "        # Convert torch tensor to Variable\n",
    "        inputs = Variable(inputs)\n",
    "        labels = Variable(labels)\n",
    "        \n",
    "        CUDA = torch.cuda.is_available()\n",
    "        if CUDA:\n",
    "            inputs = inputs.cuda()\n",
    "            labels = labels.cuda()\n",
    "        \n",
    "        outputs = model(inputs)     \n",
    "        los = loss_fn(outputs, labels) # Calculate the loss\n",
    "        loss += los.item()\n",
    "        # Record the correct predictions for training data\n",
    "        _, predicted = torch.max(outputs, 1)\n",
    "        correct += (predicted == labels).sum()\n",
    "        \n",
    "        iterations += 1\n",
    "\n",
    "    # Record the Testing loss\n",
    "    test_loss.append(loss/iterations)\n",
    "    # Record the Testing accuracy\n",
    "    test_accuracy.append((100 * correct.cpu().numpy() / len(test_dataset)))\n",
    "    \n",
    "    print ('Epoch {}/{}, Training Loss: {:.3f}, Training Accuracy: {:.3f}, Testing Loss: {:.3f}, Testing Acc: {:.3f}'\n",
    "           .format(epoch+1, num_epochs, train_loss[-1], train_accuracy[-1], \n",
    "             test_loss[-1], test_accuracy[-1]))"
   ]
  },
  {
   "cell_type": "code",
   "execution_count": 12,
   "id": "8c1e2167-2460-4831-88de-cff671387288",
   "metadata": {},
   "outputs": [],
   "source": [
    "#save the model\n",
    "torch.save(model.state_dict(),'CNN_MNIST.pth')\n",
    "#load the model \n",
    "# model.load_state_dict(torch.load('CNN_MNIST.pth'))"
   ]
  },
  {
   "cell_type": "code",
   "execution_count": 13,
   "id": "4f88a675-f15a-4500-bf07-5f3d572c8592",
   "metadata": {},
   "outputs": [
    {
     "data": {
      "image/png": "[encoded data removed]",
      "text/plain": [
       "<Figure size 1000x1000 with 1 Axes>"
      ]
     },
     "metadata": {},
     "output_type": "display_data"
    }
   ],
   "source": [
    "# Loss\n",
    "f = plt.figure(figsize=(10, 10))\n",
    "plt.plot(train_loss, label='Training Loss')\n",
    "plt.plot(test_loss, label='Testing Loss')\n",
    "plt.legend()\n",
    "plt.show()"
   ]
  },
  {
   "cell_type": "code",
   "execution_count": 14,
   "id": "e2ecf90f-6e55-46d4-8c00-e44bcd7900ab",
   "metadata": {},
   "outputs": [
    {
     "data": {
      "image/png": "[encoded data removed]",
      "text/plain": [
       "<Figure size 1000x1000 with 1 Axes>"
      ]
     },
     "metadata": {},
     "output_type": "display_data"
    }
   ],
   "source": [
    "# Accuracy\n",
    "f = plt.figure(figsize=(10, 10))\n",
    "plt.plot(train_accuracy, label='Training Accuracy')\n",
    "plt.plot(test_accuracy, label='Testing Accuracy')\n",
    "plt.legend()\n",
    "plt.show()"
   ]
  },
  {
   "cell_type": "markdown",
   "id": "fa0c6660-7137-4016-913d-1624f793cc31",
   "metadata": {},
   "source": [
    "## Test my img"
   ]
  },
  {
   "cell_type": "code",
   "execution_count": 15,
   "id": "fa1302a6-c89e-4a51-a26b-b37e9618588c",
   "metadata": {},
   "outputs": [
    {
     "data": {
      "text/plain": [
       "<matplotlib.image.AxesImage at 0x1de0d494fa0>"
      ]
     },
     "execution_count": 15,
     "metadata": {},
     "output_type": "execute_result"
    },
    {
     "data": {
      "image/png": "[encoded data removed]",
      "text/plain": [
       "<Figure size 640x480 with 1 Axes>"
      ]
     },
     "metadata": {},
     "output_type": "display_data"
    }
   ],
   "source": [
    "import cv2 \n",
    "import matplotlib.pyplot as plt\n",
    "import tensorflow as tf\n",
    "\n",
    "# Load sample image\n",
    "file = 'my_6.png'\n",
    "test_image = cv2.imread(file, cv2.IMREAD_GRAYSCALE)\n",
    "\n",
    "# Preview sample image\n",
    "plt.imshow(test_image, cmap='gray')\n",
    "\n",
    "# Format Image\n",
    "img_resized = cv2.resize(test_image, (28, 28), interpolation=cv2.INTER_LINEAR)\n",
    "img_resized = cv2.bitwise_not(img_resized)\n",
    "\n",
    "# Preview reformatted image\n",
    "plt.imshow(img_resized, cmap='gray')\n",
    "\n",
    "#my_6 = tf.convert_to_tensor(img_resized)"
   ]
  },
  {
   "cell_type": "code",
   "execution_count": 16,
   "id": "571a2446-b039-4c0c-9bf2-4084f1abda2f",
   "metadata": {},
   "outputs": [],
   "source": [
    "img = transforms.ToTensor()(img_resized)\n",
    "images = img.view(1,1,28,28)    \n",
    "if CUDA:\n",
    "    images = images.cuda()\n",
    "    labels = labels.cuda()\n",
    "\n",
    "outputs = model(images)       \n",
    "_, predicted = torch.max(outputs.data, 1) "
   ]
  },
  {
   "cell_type": "code",
   "execution_count": 17,
   "id": "6ca32ee4-67b5-4a7e-8a99-dec36e7100a9",
   "metadata": {},
   "outputs": [
    {
     "name": "stdout",
     "output_type": "stream",
     "text": [
      "tensor([6], device='cuda:0')\n"
     ]
    }
   ],
   "source": [
    "print(predicted)"
   ]
  },
  {
   "cell_type": "code",
   "execution_count": 18,
   "id": "67d7005f-49a8-49af-8ca5-7b14d22168ba",
   "metadata": {},
   "outputs": [
    {
     "data": {
      "text/plain": [
       "tensor([[ 0.1183,  0.2420, -0.2028, -0.3037, -0.1622,  0.0191,  0.4955, -0.5602,\n",
       "          0.0597,  0.3115]], device='cuda:0', grad_fn=<AddmmBackward0>)"
      ]
     },
     "execution_count": 18,
     "metadata": {},
     "output_type": "execute_result"
    }
   ],
   "source": [
    "outputs"
   ]
  },
  {
   "cell_type": "code",
   "execution_count": null,
   "id": "59256b40-8983-4b1a-b803-22dd5212a9b7",
   "metadata": {},
   "outputs": [],
   "source": []
  }
 ],
 "metadata": {
  "kernelspec": {
   "display_name": "Python 3 (ipykernel)",
   "language": "python",
   "name": "python3"
  },
  "language_info": {
   "codemirror_mode": {
    "name": "ipython",
    "version": 3
   },
   "file_extension": ".py",
   "mimetype": "text/x-python",
   "name": "python",
   "nbconvert_exporter": "python",
   "pygments_lexer": "ipython3",
   "version": "3.8.6rc1"
  },
  "widgets": {
   "application/vnd.jupyter.widget-state+json": {
    "state": {},
    "version_major": 2,
    "version_minor": 0
   }
  }
 },
 "nbformat": 4,
 "nbformat_minor": 5
}
